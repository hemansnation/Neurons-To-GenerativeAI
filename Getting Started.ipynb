{
 "cells": [
  {
   "cell_type": "markdown",
   "id": "d4f4eed9",
   "metadata": {},
   "source": [
    "# Getting Started\n",
    "\n",
    "Today's session will be a 1 hour in which we will discuss the following:\n",
    "\n",
    "1. the roadmap\n",
    "2. how we are going to learn\n",
    "3. the right mindset\n",
    "4. session structure\n",
    "5. daily action drill profile building\n",
    "6. after session knowledge ritual\n"
   ]
  },
  {
   "cell_type": "markdown",
   "id": "b3944bff",
   "metadata": {},
   "source": [
    "### 1. roadmap\n",
    "\n",
    "https://god-level-python.notion.site/Neurons-to-GenerativeAI-Live-Bootcamp-a59ec2f641084c488179271fc077f0c4?pvs=4"
   ]
  },
  {
   "cell_type": "code",
   "execution_count": 1,
   "id": "7fe1dad2",
   "metadata": {},
   "outputs": [
    {
     "name": "stdout",
     "output_type": "stream",
     "text": [
      "Hello World\n"
     ]
    }
   ],
   "source": [
    "print(\"Hello World\")"
   ]
  },
  {
   "cell_type": "code",
   "execution_count": null,
   "id": "539dddab",
   "metadata": {},
   "outputs": [],
   "source": [
    "0\n",
    "1"
   ]
  },
  {
   "cell_type": "markdown",
   "id": "5fe1b0fd",
   "metadata": {},
   "source": [
    "### 2. How we are going to learn\n",
    "\n",
    "concept\n",
    "\n",
    "code\n",
    "\n",
    "extra resources \n",
    "\n",
    "homework"
   ]
  },
  {
   "cell_type": "code",
   "execution_count": null,
   "id": "121048fd",
   "metadata": {},
   "outputs": [],
   "source": []
  },
  {
   "cell_type": "markdown",
   "id": "d1ea8a98",
   "metadata": {},
   "source": [
    "### 3. the right mindset"
   ]
  },
  {
   "cell_type": "code",
   "execution_count": null,
   "id": "71836826",
   "metadata": {},
   "outputs": [],
   "source": []
  },
  {
   "cell_type": "markdown",
   "id": "27ceb3d2",
   "metadata": {},
   "source": [
    "### 4. session structure\n",
    "\n",
    "concept\n",
    "\n",
    "code\n",
    "\n",
    "extra resources\n",
    "\n",
    "homework\n",
    "\n",
    "discussion\n",
    "\n",
    "10 min knowledge base building"
   ]
  },
  {
   "cell_type": "code",
   "execution_count": null,
   "id": "4a9a2d77",
   "metadata": {},
   "outputs": [],
   "source": []
  },
  {
   "cell_type": "markdown",
   "id": "5f031131",
   "metadata": {},
   "source": [
    "### 5. daily action drill profile building\n",
    "- Learning\n",
    "    - 4 hours of learning session everyday (deep work session)\n",
    "        - you cannot talk to anyone\n",
    "        - you can have coffee\n",
    "- create more opportunities\n",
    "- you have to put your work out there\n",
    "    - blog\n",
    "    - project and share it in your network\n",
    "    - code on github\n",
    "    - deploy it in production (live)\n",
    "- focus on one platform - linkedin\n"
   ]
  },
  {
   "cell_type": "markdown",
   "id": "f7b3c7cd",
   "metadata": {},
   "source": [
    "### 6. after session knowledge ritual"
   ]
  },
  {
   "cell_type": "code",
   "execution_count": null,
   "id": "bd877589",
   "metadata": {},
   "outputs": [],
   "source": [
    "discussion\n",
    "\n",
    "10 min knowledge base building"
   ]
  }
 ],
 "metadata": {
  "kernelspec": {
   "display_name": "Python 3 (ipykernel)",
   "language": "python",
   "name": "python3"
  },
  "language_info": {
   "codemirror_mode": {
    "name": "ipython",
    "version": 3
   },
   "file_extension": ".py",
   "mimetype": "text/x-python",
   "name": "python",
   "nbconvert_exporter": "python",
   "pygments_lexer": "ipython3",
   "version": "3.9.12"
  }
 },
 "nbformat": 4,
 "nbformat_minor": 5
}
