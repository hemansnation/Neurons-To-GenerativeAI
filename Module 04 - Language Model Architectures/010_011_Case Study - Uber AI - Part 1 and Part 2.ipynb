{
 "cells": [
  {
   "cell_type": "markdown",
   "id": "89b6ad3b",
   "metadata": {},
   "source": [
    "# Case Study - Uber AI\n",
    "\n",
    "1. Introduction\n",
    "2. The ML Journey\n",
    "    - Michelangelo 1.0 (2016 - 2019)\n",
    "    - Michelangelo 2.0 (2019 - 2023)\n",
    "    - Generative AI (2023 - now)\n",
    "3. Conclusion"
   ]
  },
  {
   "cell_type": "code",
   "execution_count": null,
   "id": "98f0da80",
   "metadata": {},
   "outputs": [],
   "source": []
  },
  {
   "cell_type": "markdown",
   "id": "d755e7af",
   "metadata": {},
   "source": [
    "# 1. Introduction\n",
    "\n",
    "<img src='case1.png' />"
   ]
  },
  {
   "cell_type": "code",
   "execution_count": null,
   "id": "cc86a905",
   "metadata": {},
   "outputs": [],
   "source": [
    "how ML devs impacted business at uber\n",
    "\n",
    "platform: Michelangelo - 2016\n",
    "    \n",
    "- end-to-end ML lifecycle\n",
    "- develop high quality ML apps\n",
    "\n",
    "features\n",
    "- 400 active ML projects at scale\n",
    "- every month 20000 model training jobs\n",
    "- 5000 models in production\n",
    "- 10 million real time predictions per second"
   ]
  },
  {
   "cell_type": "markdown",
   "id": "463da0bf",
   "metadata": {},
   "source": [
    "# 2. The ML Journey\n",
    "\n",
    "<img src='case2.png' />\n",
    "\n",
    "\n",
    "<img src='case3.png' />\n"
   ]
  },
  {
   "cell_type": "code",
   "execution_count": null,
   "id": "7cca173f",
   "metadata": {},
   "outputs": [],
   "source": [
    "10000 cities\n",
    "70 countries\n",
    "25 million trips on the platform each day\n",
    "137 million active users\n",
    "\n",
    "\n",
    "ML example\n",
    "- if a rider login, ML is used to detect fraud signals\n",
    "- destination auto-complete or ranking the search results\n",
    "- once you select the destination ML will \n",
    "    - estimate ETA\n",
    "    - price calculation\n",
    "    - rider-driver matching with safety measures\n",
    "    - on-trip routing\n",
    "- payment fraud detection"
   ]
  },
  {
   "cell_type": "code",
   "execution_count": null,
   "id": "2873dc37",
   "metadata": {},
   "outputs": [],
   "source": [
    "divide the whole problem into smaller problems and solve them one by one"
   ]
  },
  {
   "cell_type": "markdown",
   "id": "47cc3f4e",
   "metadata": {},
   "source": [
    "### Uber's Journey from 2016 to 2023\n",
    "\n",
    "<img src='case4.png' />"
   ]
  },
  {
   "cell_type": "code",
   "execution_count": null,
   "id": "a0a96424",
   "metadata": {},
   "outputs": [],
   "source": []
  },
  {
   "cell_type": "markdown",
   "id": "bd1477d5",
   "metadata": {},
   "source": [
    "### Michelangelo 1.0 (2016 - 2019)\n"
   ]
  },
  {
   "cell_type": "code",
   "execution_count": null,
   "id": "db5b5fd7",
   "metadata": {},
   "outputs": [],
   "source": [
    "in 2015 \n",
    "- the scientists at uber used jupyter notebook to develop models\n",
    "- and engineers built pipelines to deploy those models to production\n",
    "- there were no system in place\n",
    "\n",
    "2016\n",
    "- they launched michelangelo - build and deploy ML models at scale\n",
    "\n",
    "features\n",
    "- gallery - ML metadata have this search API for all types on ML entities\n",
    "- manifold - visual debugging tool for ML at uber\n",
    "- PyML - framework for prototyping, validating and productionizing python ML models\n",
    "- horovod - for distributed training"
   ]
  },
  {
   "cell_type": "code",
   "execution_count": null,
   "id": "89c62f47",
   "metadata": {},
   "outputs": [],
   "source": []
  },
  {
   "cell_type": "code",
   "execution_count": null,
   "id": "121d15f4",
   "metadata": {},
   "outputs": [],
   "source": []
  },
  {
   "cell_type": "markdown",
   "id": "00dc9f51",
   "metadata": {},
   "source": [
    "### Michelangelo 2.0 (2019 - 2023)\n",
    "\n",
    "<img src='case5.png' />"
   ]
  },
  {
   "cell_type": "code",
   "execution_count": null,
   "id": "171e6057",
   "metadata": {},
   "outputs": [],
   "source": [
    "1 - lack of comprehensive ML quality definition and projects tiering\n",
    "    - didn't have a clear way to measure how good the model is\n",
    "    \n",
    "    Learning\n",
    "    - clearly define standards for measuring the quality of AI models\n",
    "    - you should prioritize projects based on the business impact\n",
    "    \n",
    "    \n",
    "2 - Insufficient support for DL models\n",
    "    - in 2019 uber used ml models like decision tree\n",
    "    - they had a lot of data to use deep learning techniques but \n",
    "    - the tools and infrastructure were not ready for this shift\n",
    "    \n",
    "    learning\n",
    "    - we should invest in the right infra and tools early on\n",
    "    \n",
    "3 - inadequacy of support for collaborative model development\n",
    "    - small ml projects and handled by one developer\n",
    "    - michelangelo 1.0 didn't support teamwork\n",
    "    - there were no version control\n",
    "    - no centralized place to store model code\n",
    "    \n",
    "    learning\n",
    "    - AI projects are collaborative\n",
    "    - we should have tools that helps out team to work together on different projects\n",
    "    - code version control and centralization should be there\n",
    "    \n",
    "    \n",
    "4 - fragmented ML tooling and developer experience\n",
    "    - teams were working on different parts of ML projects for specific needs\n",
    "    - this made the process confusing and time consuming as well\n",
    "    \n",
    "    learning\n",
    "    - unified ML platform\n",
    "    - all tools are integrated and easy to use"
   ]
  },
  {
   "cell_type": "markdown",
   "id": "b04f63f9",
   "metadata": {},
   "source": [
    "# Part 2"
   ]
  },
  {
   "cell_type": "code",
   "execution_count": null,
   "id": "d60405fb",
   "metadata": {},
   "outputs": [],
   "source": []
  },
  {
   "cell_type": "markdown",
   "id": "e1c264a9",
   "metadata": {},
   "source": [
    "### the re-created architecture\n",
    "\n",
    "<img src='case6.png' />"
   ]
  },
  {
   "cell_type": "code",
   "execution_count": null,
   "id": "f56314f8",
   "metadata": {},
   "outputs": [],
   "source": [
    "1 - plug and play components\n",
    "2 - faster model development\n",
    "3 - easy production management\n",
    "4 - focus on quality\n"
   ]
  },
  {
   "cell_type": "markdown",
   "id": "c0580c6c",
   "metadata": {},
   "source": [
    "### some design principles used in Michelangelo 2.0\n"
   ]
  },
  {
   "cell_type": "code",
   "execution_count": null,
   "id": "7e2e1084",
   "metadata": {},
   "outputs": [],
   "source": [
    "1 - project tiering - focus more on high business impact ML projects\n",
    "2 - Core workflows + flexibility\n",
    "3 - plug and play vs monolithic\n",
    "4 - API-driven + UI support\n",
    "5 - build or buy\n",
    "6 - codified best practices"
   ]
  },
  {
   "cell_type": "code",
   "execution_count": null,
   "id": "580fb0ae",
   "metadata": {},
   "outputs": [],
   "source": []
  },
  {
   "cell_type": "markdown",
   "id": "c47f79df",
   "metadata": {},
   "source": [
    "### the system design (online and offline)\n",
    "\n",
    "<img src='case7.png' />"
   ]
  },
  {
   "cell_type": "code",
   "execution_count": null,
   "id": "1be817f3",
   "metadata": {},
   "outputs": [],
   "source": []
  },
  {
   "cell_type": "code",
   "execution_count": null,
   "id": "3b83fcbd",
   "metadata": {},
   "outputs": [],
   "source": []
  },
  {
   "cell_type": "markdown",
   "id": "0d73ecd4",
   "metadata": {},
   "source": [
    "### Model Quality and Project Tiering\n",
    "\n",
    "<img src='case8.png' />"
   ]
  },
  {
   "cell_type": "code",
   "execution_count": null,
   "id": "30b41e98",
   "metadata": {},
   "outputs": [],
   "source": [
    "MES - Model Excellence Score\n",
    "\n",
    "- training accuracy\n",
    "- prediction accuracy\n",
    "- model freshness\n",
    "- prediction feature quality"
   ]
  },
  {
   "cell_type": "code",
   "execution_count": null,
   "id": "e01e9525",
   "metadata": {},
   "outputs": [],
   "source": []
  },
  {
   "cell_type": "markdown",
   "id": "7a75bb94",
   "metadata": {},
   "source": [
    "### Model iterations as code \n",
    "\n",
    "<img src='case9.png' />"
   ]
  },
  {
   "cell_type": "code",
   "execution_count": null,
   "id": "7e37b8e4",
   "metadata": {},
   "outputs": [],
   "source": []
  },
  {
   "cell_type": "code",
   "execution_count": null,
   "id": "763a5536",
   "metadata": {},
   "outputs": [],
   "source": []
  },
  {
   "cell_type": "markdown",
   "id": "90452a56",
   "metadata": {},
   "source": [
    "### MA Studio \n",
    "\n",
    "– One unified Web UI tool for everything ML @ Uber\n",
    "\n",
    "<img src='case10.png' />\n",
    "\n",
    "<img src='case11.png' />"
   ]
  },
  {
   "cell_type": "code",
   "execution_count": null,
   "id": "93109aba",
   "metadata": {},
   "outputs": [],
   "source": []
  },
  {
   "cell_type": "markdown",
   "id": "c6e347af",
   "metadata": {},
   "source": [
    "### Generative AI (2023 - now)\n",
    "\n",
    "<img src='case12.png' />"
   ]
  },
  {
   "cell_type": "code",
   "execution_count": null,
   "id": "99a1d1b2",
   "metadata": {},
   "outputs": [],
   "source": [
    "llms - openAI models\n",
    "\n",
    "tool - GenAI Gateway\n",
    "\n",
    "features\n",
    "- model catelog\n",
    "- evaluation framework\n",
    "- prompt engineering toolkit\n",
    "\n",
    "huggingface integration"
   ]
  },
  {
   "cell_type": "code",
   "execution_count": null,
   "id": "ebc58fbd",
   "metadata": {},
   "outputs": [],
   "source": []
  },
  {
   "cell_type": "markdown",
   "id": "5d0c28ce",
   "metadata": {},
   "source": [
    "# 3. Conclusion"
   ]
  },
  {
   "cell_type": "code",
   "execution_count": null,
   "id": "cecf114e",
   "metadata": {},
   "outputs": [],
   "source": [
    "foundational phase of predictive ML - 2016-19\n",
    "pregressive shift to deep learning - 2019-23\n",
    "generative ai after 2023 -\n"
   ]
  },
  {
   "cell_type": "code",
   "execution_count": null,
   "id": "1bc51fa2",
   "metadata": {},
   "outputs": [],
   "source": []
  },
  {
   "cell_type": "code",
   "execution_count": null,
   "id": "a5e3679d",
   "metadata": {},
   "outputs": [],
   "source": []
  },
  {
   "cell_type": "code",
   "execution_count": null,
   "id": "0c048798",
   "metadata": {},
   "outputs": [],
   "source": []
  },
  {
   "cell_type": "code",
   "execution_count": null,
   "id": "1bd72dc0",
   "metadata": {},
   "outputs": [],
   "source": []
  },
  {
   "cell_type": "markdown",
   "id": "af3ae49b",
   "metadata": {},
   "source": [
    "# Resources\n",
    "\n",
    "About Michelangelo: https://www.uber.com/en-IN/blog/michelangelo-machine-learning-platform/?uclick_id=b7476fca-c547-4e71-9b38-4b1de4af5579\n",
    "\n",
    "Measure Excellence Score: https://medium.com/@amit.rajawat12/ai-ml-model-performance-measurement-using-python-e6ff87e98a0a"
   ]
  },
  {
   "cell_type": "code",
   "execution_count": null,
   "id": "4fcab56c",
   "metadata": {},
   "outputs": [],
   "source": []
  }
 ],
 "metadata": {
  "kernelspec": {
   "display_name": "Python 3 (ipykernel)",
   "language": "python",
   "name": "python3"
  },
  "language_info": {
   "codemirror_mode": {
    "name": "ipython",
    "version": 3
   },
   "file_extension": ".py",
   "mimetype": "text/x-python",
   "name": "python",
   "nbconvert_exporter": "python",
   "pygments_lexer": "ipython3",
   "version": "3.9.12"
  }
 },
 "nbformat": 4,
 "nbformat_minor": 5
}
