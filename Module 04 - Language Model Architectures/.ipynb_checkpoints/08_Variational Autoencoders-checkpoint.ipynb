{
 "cells": [
  {
   "cell_type": "markdown",
   "id": "fc039453",
   "metadata": {},
   "source": [
    "# Variational Autoencoders\n",
    "\n",
    "<img src='v1.png' />"
   ]
  },
  {
   "cell_type": "code",
   "execution_count": null,
   "id": "48d020fc",
   "metadata": {},
   "outputs": [],
   "source": [
    "autoencoders\n",
    "- they have the ability to compress and reconstruct data\n",
    "- they represent the data in low dimensional space\n",
    "- it also use probability\n",
    "- it has the ability to generate data"
   ]
  },
  {
   "cell_type": "code",
   "execution_count": null,
   "id": "2f637fb1",
   "metadata": {},
   "outputs": [],
   "source": [
    "# real world applications\n",
    "\n",
    "- image generation and reconstruction (de-noising)\n",
    "    - facial image synthesis\n",
    "    - fashion \n",
    "- drug discovery\n",
    "    - generate related compounds with real properties\n",
    "    - protein folding\n",
    "- text generation and NLP\n",
    "    - Amazon alexa - dialogue system \n",
    "    - text summarization\n",
    "- audio and music generation - AR rehman\n",
    "    - audio de-noising\n"
   ]
  },
  {
   "cell_type": "markdown",
   "id": "2d1f6f38",
   "metadata": {},
   "source": [
    "AR RAHAMAN using AI\n",
    "https://www.thehindu.com/entertainment/movies/a-r-rahman-on-using-ai-in-music-not-a-gimmick-has-to-serve-a-purpose/article67807231.ece\n",
    "\n",
    "\n",
    "## Latent Space\n",
    "\n",
    "<img src='v2.png' />"
   ]
  },
  {
   "cell_type": "code",
   "execution_count": null,
   "id": "0773e616",
   "metadata": {},
   "outputs": [],
   "source": [
    "latent space - low dimensional representation of high dimensional images\n",
    "\n",
    "image -> vector representation (high dimensional data)\n",
    "         latent representation (low dimensional data)\n",
    "    \n"
   ]
  },
  {
   "cell_type": "code",
   "execution_count": null,
   "id": "bdabc6d1",
   "metadata": {},
   "outputs": [],
   "source": []
  },
  {
   "cell_type": "markdown",
   "id": "b79e24dc",
   "metadata": {},
   "source": [
    "## VAE\n",
    "\n",
    "<img src='v3.png' />"
   ]
  },
  {
   "cell_type": "code",
   "execution_count": null,
   "id": "7fb4130e",
   "metadata": {},
   "outputs": [],
   "source": [
    "encoder (neural network architecture)\n",
    "- it takes an input and compress it into a compact latent representation\n",
    "- it outputs the distribution (gaussian)\n",
    "\n",
    "- it is going to map the input into a lower-dimensional latent space \n",
    "        and capture most importatnt features\n",
    "- it outputs 2 vectors\n",
    "    - mean vector\n",
    "    - variance vector"
   ]
  },
  {
   "cell_type": "code",
   "execution_count": null,
   "id": "dd3dee03",
   "metadata": {},
   "outputs": [],
   "source": [
    "decoder (neural network architecture)\n",
    "- it will sample a point from this distribution in the latent space \n",
    "    and attempt to reconstruct the original input\n",
    "\n",
    "- reconstruction might not be perfect but the goal is to make it as close as possible to the input."
   ]
  },
  {
   "cell_type": "code",
   "execution_count": null,
   "id": "11929b0c",
   "metadata": {},
   "outputs": [],
   "source": [
    "2 properties of VAE\n",
    "\n",
    "- generative power - generating realisting faces, composing new music, generating text\n",
    "- continuous latent space\n",
    "    - you can interpolate between the points in the space\n",
    "    "
   ]
  },
  {
   "cell_type": "markdown",
   "id": "fff07bac",
   "metadata": {},
   "source": [
    "## How it Works?"
   ]
  },
  {
   "cell_type": "code",
   "execution_count": null,
   "id": "fa34815e",
   "metadata": {},
   "outputs": [],
   "source": [
    "1. Encoding the Image\n",
    "\n",
    "- the input is fed into the encoder network\n",
    "- encoder transforms the high-dimensional input data into latent space representation\n",
    "- it encodes the data as a probability distribution(mean and variance) over the latent space\n",
    "- it is going to map the input into a lower-dimensional latent space \n",
    "        and capture most importatnt features\n",
    "- it outputs 2 vectors\n",
    "    - mean vector\n",
    "    - variance vector"
   ]
  },
  {
   "cell_type": "code",
   "execution_count": null,
   "id": "e45798b4",
   "metadata": {},
   "outputs": [],
   "source": [
    "2. Sampling from Latent space\n",
    "\n",
    "- we sample a point from this distribution to create a latent variable\n",
    "- reparameterization trick\n",
    "    - we want the model to be trained using backpropagation (to make the process differentiable)\n",
    "    - sample from standard normal distribution(mean = 0, variance = 1) \n",
    "        and transform it using mean and variance of the learned distribution\n",
    "    "
   ]
  },
  {
   "cell_type": "code",
   "execution_count": null,
   "id": "54955aa1",
   "metadata": {},
   "outputs": [],
   "source": [
    "3. Decoding (reconstruction)\n",
    "\n",
    "- it will reconstruct the original data from this latent variable\n",
    "- decoder takes the smapled latent representation \n",
    "        and produce the output similar to the original input.\n",
    "- the goal is to make it as close as possible to the input\n"
   ]
  },
  {
   "cell_type": "code",
   "execution_count": null,
   "id": "9ea32765",
   "metadata": {},
   "outputs": [],
   "source": [
    "4. Loss function\n",
    "\n",
    "2 part loss function is used in VAE\n",
    "- reconstruction loss - how close the output image to the input image\n",
    "- KL divergence - how differ the latent distribution from the standard gaussian distribution\n",
    "\n",
    "loss = reconstruction loss + KL"
   ]
  },
  {
   "cell_type": "code",
   "execution_count": null,
   "id": "fb7ec5d9",
   "metadata": {},
   "outputs": [],
   "source": [
    "5. training the VAE"
   ]
  },
  {
   "cell_type": "code",
   "execution_count": null,
   "id": "7280011f",
   "metadata": {},
   "outputs": [],
   "source": [
    "6. Generating new data\n",
    "\n",
    "- sample a point from the latent space\n",
    "- pass the latent point through decoder\n",
    "- decoder generaties a new output that resembles the training data"
   ]
  },
  {
   "cell_type": "markdown",
   "id": "deada6dd",
   "metadata": {},
   "source": [
    "# Code\n",
    "\n",
    "https://medium.com/@rekalantar/variational-auto-encoder-vae-pytorch-tutorial-dce2d2fe0f5f"
   ]
  },
  {
   "cell_type": "code",
   "execution_count": null,
   "id": "4d6f7790",
   "metadata": {},
   "outputs": [],
   "source": []
  }
 ],
 "metadata": {
  "kernelspec": {
   "display_name": "Python 3 (ipykernel)",
   "language": "python",
   "name": "python3"
  },
  "language_info": {
   "codemirror_mode": {
    "name": "ipython",
    "version": 3
   },
   "file_extension": ".py",
   "mimetype": "text/x-python",
   "name": "python",
   "nbconvert_exporter": "python",
   "pygments_lexer": "ipython3",
   "version": "3.9.12"
  }
 },
 "nbformat": 4,
 "nbformat_minor": 5
}
