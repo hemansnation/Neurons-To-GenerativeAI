{
 "cells": [
  {
   "cell_type": "markdown",
   "id": "16e06787",
   "metadata": {},
   "source": [
    "## Table of Contents\n",
    "\n",
    "1. AI trends\n",
    "2. AI Certifications\n",
    "3. AI Hype"
   ]
  },
  {
   "cell_type": "code",
   "execution_count": null,
   "id": "121397a2",
   "metadata": {},
   "outputs": [],
   "source": []
  },
  {
   "cell_type": "markdown",
   "id": "75289a28",
   "metadata": {},
   "source": [
    "## AI Trends 2025"
   ]
  },
  {
   "cell_type": "code",
   "execution_count": null,
   "id": "31fd826b",
   "metadata": {},
   "outputs": [],
   "source": [
    "augmented working\n",
    "- ai agents\n",
    "    - Himanshu the AI consultant\n",
    "    - data - videos, text conversations, posts,  = converted into text data\n",
    "    - i am going to train LLM for being a clone of myself\n"
   ]
  },
  {
   "cell_type": "code",
   "execution_count": null,
   "id": "c46996d1",
   "metadata": {},
   "outputs": [],
   "source": [
    "Real time automated decision making\n",
    "\n",
    "- better AI strategy = end-to-end automation for entire business processes\n",
    "    - logistics\n",
    "    - customer support\n",
    "    - marketing"
   ]
  },
  {
   "cell_type": "code",
   "execution_count": null,
   "id": "ab818fba",
   "metadata": {},
   "outputs": [],
   "source": [
    "Responsible AI\n",
    "\n",
    "- ethical\n",
    "- secure\n",
    "- transparent\n",
    "- reliable\n",
    "- respectful\n",
    "\n",
    "awful AI - https://github.com/daviddao/awful-ai"
   ]
  },
  {
   "cell_type": "code",
   "execution_count": null,
   "id": "3f605b33",
   "metadata": {},
   "outputs": [],
   "source": [
    "Generative Videos\n",
    "\n",
    "- sora\n",
    "- pika\n"
   ]
  },
  {
   "cell_type": "code",
   "execution_count": null,
   "id": "f7e6a0ec",
   "metadata": {},
   "outputs": [],
   "source": [
    "Next-Gen Voice Assistants\n",
    "\n",
    "- openAI interruptable advanced voice mode\n",
    "- hey google\n"
   ]
  },
  {
   "cell_type": "markdown",
   "id": "2a715a3f",
   "metadata": {},
   "source": [
    "## AI certifications\n",
    "\n"
   ]
  },
  {
   "cell_type": "code",
   "execution_count": null,
   "id": "e59bd577",
   "metadata": {},
   "outputs": [],
   "source": [
    "Cloud Certifications\n",
    "Leadership certification with market credability\n"
   ]
  },
  {
   "cell_type": "code",
   "execution_count": null,
   "id": "2a58973d",
   "metadata": {},
   "outputs": [],
   "source": [
    "https://newsletter.himanshuramchandani.co/p/ai-certifications-are-a-waste-of-time"
   ]
  },
  {
   "cell_type": "markdown",
   "id": "b6ca6de6",
   "metadata": {},
   "source": [
    "## AI Hype"
   ]
  },
  {
   "cell_type": "code",
   "execution_count": null,
   "id": "52fa4213",
   "metadata": {},
   "outputs": [],
   "source": [
    "https://newsletter.himanshuramchandani.co/p/ai-hype-of-half-working-solutions-vs-reality"
   ]
  },
  {
   "cell_type": "code",
   "execution_count": null,
   "id": "f9107116",
   "metadata": {},
   "outputs": [],
   "source": []
  },
  {
   "cell_type": "code",
   "execution_count": null,
   "id": "c041710d",
   "metadata": {},
   "outputs": [],
   "source": []
  }
 ],
 "metadata": {
  "kernelspec": {
   "display_name": "Python 3 (ipykernel)",
   "language": "python",
   "name": "python3"
  },
  "language_info": {
   "codemirror_mode": {
    "name": "ipython",
    "version": 3
   },
   "file_extension": ".py",
   "mimetype": "text/x-python",
   "name": "python",
   "nbconvert_exporter": "python",
   "pygments_lexer": "ipython3",
   "version": "3.9.12"
  }
 },
 "nbformat": 4,
 "nbformat_minor": 5
}
