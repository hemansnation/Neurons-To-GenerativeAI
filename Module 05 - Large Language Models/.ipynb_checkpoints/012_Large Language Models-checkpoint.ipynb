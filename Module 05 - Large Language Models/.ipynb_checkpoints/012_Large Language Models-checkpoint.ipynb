{
 "cells": [
  {
   "cell_type": "markdown",
   "id": "dda44121",
   "metadata": {},
   "source": [
    "## Table of Contents\n",
    "\n",
    "1. Large Language Models(How ChatGPT works?)\n",
    "2. State-of-the-art LLMs\n",
    "3. How difficult it is to build LLMs?\n",
    "4. What to know for LLMs on Cloud?"
   ]
  },
  {
   "cell_type": "code",
   "execution_count": null,
   "id": "7e82ece9",
   "metadata": {},
   "outputs": [],
   "source": [
    "BERT - 2017\n",
    "\n",
    "The cat is the best .....\n",
    "\n",
    "both direction"
   ]
  },
  {
   "cell_type": "code",
   "execution_count": null,
   "id": "38ef7e1b",
   "metadata": {},
   "outputs": [],
   "source": [
    "GPT\n",
    "\n",
    "Generative\n",
    "- statistical modeling\n",
    "    - generative modeling - predict the next number\n",
    "\n",
    "Pre-Trained\n",
    "- model that is trained on fundamental tasks\n",
    "\n",
    "Transformers\n",
    "- big computer that reduces the gap between a human and a machine"
   ]
  },
  {
   "cell_type": "code",
   "execution_count": null,
   "id": "f3e2c282",
   "metadata": {},
   "outputs": [],
   "source": [
    "print(\"Hello Friend\")"
   ]
  },
  {
   "cell_type": "code",
   "execution_count": null,
   "id": "2a0bc066",
   "metadata": {},
   "outputs": [],
   "source": [
    "GPT3\n",
    "\n",
    "5 datasets from internet\n",
    "\n",
    "500 Billion words (tokens)\n",
    "\n",
    "175 Billion Parameters (memory of the model)"
   ]
  },
  {
   "cell_type": "code",
   "execution_count": null,
   "id": "2a3e41c8",
   "metadata": {},
   "outputs": [],
   "source": [
    "lr = LinearRegression(x,y)\n",
    "\n",
    "y = mx + c"
   ]
  },
  {
   "cell_type": "markdown",
   "id": "837a3e5a",
   "metadata": {},
   "source": [
    "# Large Language Models(How ChatGPT works?)\n",
    "\n",
    "<img src='l1.png' />"
   ]
  },
  {
   "cell_type": "code",
   "execution_count": null,
   "id": "50336bb0",
   "metadata": {},
   "outputs": [],
   "source": [
    "blue have the highest probability of being the next word"
   ]
  },
  {
   "cell_type": "code",
   "execution_count": null,
   "id": "881e21d3",
   "metadata": {},
   "outputs": [],
   "source": [
    "the LLMs are just fancy autocomplete"
   ]
  },
  {
   "cell_type": "markdown",
   "id": "cc4ff8dd",
   "metadata": {},
   "source": [
    "### Attention and Prompt"
   ]
  },
  {
   "cell_type": "code",
   "execution_count": null,
   "id": "be7427be",
   "metadata": {},
   "outputs": [],
   "source": [
    "prompt - the more clearly you define what you want from a LLM, you will get a better response."
   ]
  },
  {
   "cell_type": "code",
   "execution_count": null,
   "id": "5be85317",
   "metadata": {},
   "outputs": [],
   "source": [
    "- LLMs dont automatically improve with use\n",
    "- it will always start fresh in different sessions(new chat)\n",
    "- to get better output, you must adapt to the LLM"
   ]
  },
  {
   "cell_type": "code",
   "execution_count": null,
   "id": "46403ee9",
   "metadata": {},
   "outputs": [],
   "source": [
    "\"take a deep breadth and give me the roadmap for ML\"\n",
    "\n",
    "GPT is a base model or foundational model"
   ]
  },
  {
   "cell_type": "markdown",
   "id": "4910ba72",
   "metadata": {},
   "source": [
    "### the next word\n",
    "\n",
    "<img src='l2.png' />"
   ]
  },
  {
   "cell_type": "code",
   "execution_count": null,
   "id": "5721628b",
   "metadata": {},
   "outputs": [],
   "source": [
    "What is the capital of Germany?\n",
    "\n",
    "The capital ........"
   ]
  },
  {
   "cell_type": "code",
   "execution_count": null,
   "id": "116998de",
   "metadata": {},
   "outputs": [],
   "source": [
    "the distribution is not deterministic\n",
    "\n",
    "same prompt -> different distribution\n",
    "\n",
    "- the randomness is what we call generative in generativeAI"
   ]
  },
  {
   "cell_type": "code",
   "execution_count": null,
   "id": "c08256f4",
   "metadata": {},
   "outputs": [],
   "source": [
    "what is the capital of germany?\n",
    "\n",
    "response: The capital of germany is berlin."
   ]
  },
  {
   "cell_type": "code",
   "execution_count": null,
   "id": "56eba297",
   "metadata": {},
   "outputs": [],
   "source": [
    "you are wrong"
   ]
  },
  {
   "cell_type": "markdown",
   "id": "c67c5330",
   "metadata": {},
   "source": [
    "### Most Important part in ChatGPT"
   ]
  },
  {
   "cell_type": "code",
   "execution_count": null,
   "id": "669072da",
   "metadata": {},
   "outputs": [],
   "source": [
    "what is the capital of france?\n",
    "what is the capital of germany?\n",
    "\n",
    "response: what is the capital of italy?"
   ]
  },
  {
   "cell_type": "code",
   "execution_count": null,
   "id": "0cd0d55b",
   "metadata": {},
   "outputs": [],
   "source": [
    "openAI created an instruction manual\n",
    "\n",
    "- they took a small dataset of questions and answers\n",
    "- used it to fine-tune their base model"
   ]
  },
  {
   "cell_type": "code",
   "execution_count": null,
   "id": "a7823c14",
   "metadata": {},
   "outputs": [],
   "source": [
    "instruction model\n",
    "- it is not just autocomplete but it follows instructions"
   ]
  },
  {
   "cell_type": "code",
   "execution_count": null,
   "id": "4509d29c",
   "metadata": {},
   "outputs": [],
   "source": [
    "ChatGPT does not really know anything\n",
    "\n",
    "- no self-awareness\n",
    "- no consciousness"
   ]
  },
  {
   "cell_type": "code",
   "execution_count": null,
   "id": "fd21133d",
   "metadata": {},
   "outputs": [],
   "source": []
  },
  {
   "cell_type": "markdown",
   "id": "02743ca8",
   "metadata": {},
   "source": [
    "# State-of-the-art LLMs\n"
   ]
  },
  {
   "cell_type": "code",
   "execution_count": null,
   "id": "1ecae763",
   "metadata": {},
   "outputs": [],
   "source": [
    "GPT4 - OpenAI\n",
    "\n",
    "- it is not a single model\n",
    "- it is a combination of 8 models (each with 220 billion parameters)\n",
    "\n",
    "LLaMa - MetaAI\n",
    "\n",
    "- it requires less computational power\n",
    "- available in different size\n",
    "\n",
    "PalM - Google\n",
    "\n",
    "540 billion parameters"
   ]
  },
  {
   "cell_type": "code",
   "execution_count": null,
   "id": "f1698be5",
   "metadata": {},
   "outputs": [],
   "source": []
  },
  {
   "cell_type": "code",
   "execution_count": null,
   "id": "e722bf62",
   "metadata": {},
   "outputs": [],
   "source": []
  },
  {
   "cell_type": "code",
   "execution_count": null,
   "id": "14cb5448",
   "metadata": {},
   "outputs": [],
   "source": []
  },
  {
   "cell_type": "code",
   "execution_count": null,
   "id": "34c217d8",
   "metadata": {},
   "outputs": [],
   "source": []
  }
 ],
 "metadata": {
  "kernelspec": {
   "display_name": "Python 3 (ipykernel)",
   "language": "python",
   "name": "python3"
  },
  "language_info": {
   "codemirror_mode": {
    "name": "ipython",
    "version": 3
   },
   "file_extension": ".py",
   "mimetype": "text/x-python",
   "name": "python",
   "nbconvert_exporter": "python",
   "pygments_lexer": "ipython3",
   "version": "3.9.12"
  }
 },
 "nbformat": 4,
 "nbformat_minor": 5
}
