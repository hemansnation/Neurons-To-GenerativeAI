{
 "cells": [
  {
   "cell_type": "markdown",
   "id": "8879d6da",
   "metadata": {},
   "source": [
    "## How difficult it is to build LLMs?"
   ]
  },
  {
   "cell_type": "code",
   "execution_count": null,
   "id": "14cb5448",
   "metadata": {},
   "outputs": [],
   "source": [
    "1 - amount of data\n",
    "\n",
    "GPT3 - 570 GB of text data\n",
    "\n",
    "- quality of data\n",
    "- diverse\n",
    "\n",
    "\n",
    "LlaMa - 65B - 1.4 trillion tokens"
   ]
  },
  {
   "cell_type": "code",
   "execution_count": null,
   "id": "778872b9",
   "metadata": {},
   "outputs": [],
   "source": [
    "2 - computational resources\n",
    "\n",
    "LlaMa - 2048 80G A100 - 21 days of training time\n",
    "GPT3  - 1024x A100    - 34 days"
   ]
  },
  {
   "cell_type": "code",
   "execution_count": null,
   "id": "42e8295d",
   "metadata": {},
   "outputs": [],
   "source": [
    "3 - Risk of bias\n",
    "\n",
    "- radical bias\n",
    "- gender bias\n",
    "- the way language is used\n",
    "- bias in the context"
   ]
  },
  {
   "cell_type": "code",
   "execution_count": null,
   "id": "5763dcb5",
   "metadata": {},
   "outputs": [],
   "source": [
    "4 - model robustness\n",
    "\n",
    "- dealing with huge amount of different query\n",
    "- response consistency"
   ]
  },
  {
   "cell_type": "code",
   "execution_count": null,
   "id": "74d03c04",
   "metadata": {},
   "outputs": [],
   "source": [
    "5 - interpretability and debugging\n",
    "\n",
    "- deep learning part of it is considered as black box\n",
    "- we dont know how it is giving you the response/prediction"
   ]
  },
  {
   "cell_type": "code",
   "execution_count": null,
   "id": "9803e3b2",
   "metadata": {},
   "outputs": [],
   "source": [
    "6 - environment impact\n",
    "\n",
    "- high computational resources will contribute to carbon emissions"
   ]
  },
  {
   "cell_type": "code",
   "execution_count": null,
   "id": "0b0b1a07",
   "metadata": {},
   "outputs": [],
   "source": [
    "build vs buy llms"
   ]
  },
  {
   "cell_type": "markdown",
   "id": "73dff511",
   "metadata": {},
   "source": [
    "<img src='l3.png' />"
   ]
  },
  {
   "cell_type": "code",
   "execution_count": null,
   "id": "328ed4cc",
   "metadata": {},
   "outputs": [],
   "source": []
  },
  {
   "cell_type": "code",
   "execution_count": null,
   "id": "406dfe4d",
   "metadata": {},
   "outputs": [],
   "source": []
  },
  {
   "cell_type": "markdown",
   "id": "b87f8229",
   "metadata": {},
   "source": [
    "## Services to know for LLMs on cloud"
   ]
  },
  {
   "cell_type": "code",
   "execution_count": null,
   "id": "34c217d8",
   "metadata": {},
   "outputs": [],
   "source": [
    "AWS\n",
    "\n",
    "- Experiment LLMs\n",
    "    - SageMaker - ML workflow\n",
    "    - AWS Deep Learning Containers and DL AMIs(Amazon Machine Images)\n",
    "    - Pretrained models and SageMaker JumpStart\n",
    "\n",
    "- Deployment and productionizing LLMs\n",
    "    - SageMaker Endpoints\n",
    "    - Elastic Inference and Amazon EC2 Inf1 Instance\n",
    "    - AWS Lambda and Amazon Bedrock"
   ]
  },
  {
   "cell_type": "code",
   "execution_count": null,
   "id": "dc972e15",
   "metadata": {},
   "outputs": [],
   "source": [
    "Azure\n",
    "\n",
    "- Experiement LLMs\n",
    "    - Azure OpenAI service\n",
    "    - Azure ML\n",
    "    - Azure Cognitive Services\n",
    "\n",
    "- Deployment and productionizing LLMs\n",
    "    - Azure Container Instances\n",
    "    - Azure Kubernetes Service"
   ]
  },
  {
   "cell_type": "code",
   "execution_count": null,
   "id": "363a105f",
   "metadata": {},
   "outputs": [],
   "source": [
    "GCP\n",
    "\n",
    "- Experiement LLMs\n",
    "    - VertexAI\n",
    "    - IDE\n",
    "    - AI and ML Libraries\n",
    "\n",
    "- Deployment and productionizing LLMs\n",
    "    - VertexAI Prediction\n",
    "    - Google Kubernetes Engine(GKE)"
   ]
  },
  {
   "cell_type": "code",
   "execution_count": null,
   "id": "a1a0f56e",
   "metadata": {},
   "outputs": [],
   "source": []
  },
  {
   "cell_type": "code",
   "execution_count": null,
   "id": "0306ac66",
   "metadata": {},
   "outputs": [],
   "source": []
  },
  {
   "cell_type": "code",
   "execution_count": null,
   "id": "935491fa",
   "metadata": {},
   "outputs": [],
   "source": []
  }
 ],
 "metadata": {
  "kernelspec": {
   "display_name": "Python 3 (ipykernel)",
   "language": "python",
   "name": "python3"
  },
  "language_info": {
   "codemirror_mode": {
    "name": "ipython",
    "version": 3
   },
   "file_extension": ".py",
   "mimetype": "text/x-python",
   "name": "python",
   "nbconvert_exporter": "python",
   "pygments_lexer": "ipython3",
   "version": "3.9.12"
  }
 },
 "nbformat": 4,
 "nbformat_minor": 5
}
