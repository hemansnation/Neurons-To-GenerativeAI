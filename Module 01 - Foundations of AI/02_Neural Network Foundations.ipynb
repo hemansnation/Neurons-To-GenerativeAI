{
 "cells": [
  {
   "cell_type": "markdown",
   "id": "030f7b4f",
   "metadata": {},
   "source": [
    "# Neural Networks\n",
    "\n",
    "1. Neuron\n",
    "2. Perceptron\n",
    "3. Multi-Layer Perceptron"
   ]
  },
  {
   "cell_type": "markdown",
   "id": "5b6566ed",
   "metadata": {},
   "source": [
    "# Deep Learning"
   ]
  },
  {
   "cell_type": "code",
   "execution_count": null,
   "id": "f288007a",
   "metadata": {},
   "outputs": [],
   "source": [
    "DL - used for unstructred data (text, images, videos, audios)\n",
    "- we do not need feature engineering"
   ]
  },
  {
   "cell_type": "markdown",
   "id": "a3e605ac",
   "metadata": {},
   "source": [
    "# Neuron\n",
    "\n",
    "<img src='n11.jpeg' />"
   ]
  },
  {
   "cell_type": "code",
   "execution_count": null,
   "id": "c97ceb2d",
   "metadata": {},
   "outputs": [],
   "source": [
    "input\n",
    "weights\n",
    "weighted sum\n",
    "activation function\n",
    "output"
   ]
  },
  {
   "cell_type": "markdown",
   "id": "305ddaee",
   "metadata": {},
   "source": [
    "## Single Neuron (unit)\n",
    "\n",
    "with single input\n",
    "\n",
    "<img src='n3.png' />"
   ]
  },
  {
   "cell_type": "code",
   "execution_count": null,
   "id": "e0135d1b",
   "metadata": {},
   "outputs": [],
   "source": [
    "y = mx + c  # straight line equation\n",
    "\n",
    "\n",
    "y = wx + b\n",
    "\n",
    "# w - weight\n",
    "\n",
    "# b - bias\n",
    "\n"
   ]
  },
  {
   "cell_type": "markdown",
   "id": "e16ed5f2",
   "metadata": {},
   "source": [
    "## multiple input\n",
    "\n",
    "<img src='n4.png' />"
   ]
  },
  {
   "cell_type": "code",
   "execution_count": null,
   "id": "fd8a8649",
   "metadata": {},
   "outputs": [],
   "source": [
    "y = w0x0 + w1x1 + w2x2 + b"
   ]
  },
  {
   "cell_type": "code",
   "execution_count": null,
   "id": "08d9e5fd",
   "metadata": {},
   "outputs": [],
   "source": [
    "0-0.5 -> not waking up early\n",
    "\n",
    "0.5-1 -> waking up early"
   ]
  },
  {
   "cell_type": "code",
   "execution_count": null,
   "id": "2f4a5987",
   "metadata": {},
   "outputs": [],
   "source": [
    "b = 13452.65"
   ]
  },
  {
   "cell_type": "markdown",
   "id": "545a055e",
   "metadata": {},
   "source": [
    "# Perceptron\n",
    "\n",
    "<img src='n5.png' />"
   ]
  },
  {
   "cell_type": "code",
   "execution_count": null,
   "id": "a797687f",
   "metadata": {},
   "outputs": [],
   "source": [
    "perceptron - it is simplest type of artificial neural network"
   ]
  },
  {
   "cell_type": "code",
   "execution_count": null,
   "id": "cadb75ad",
   "metadata": {},
   "outputs": [],
   "source": [
    "step function -> 0 or 1"
   ]
  },
  {
   "cell_type": "markdown",
   "id": "a266d5df",
   "metadata": {},
   "source": [
    "## Multi Layer Perceptron (Neural Networks)\n",
    "\n",
    "https://github.com/hemansnation/AI-ML-MLOps-GenAI-Live-Summer-Cohort-2024/blob/main/Module%2006%20-%20Machine%20Learning%20Algorithms/6_Neural%20Networks/26_Neural%20Networks.ipynb\n",
    "\n",
    "<img src='nn1.gif' />\n",
    "\n"
   ]
  },
  {
   "cell_type": "code",
   "execution_count": null,
   "id": "758527c3",
   "metadata": {},
   "outputs": [],
   "source": [
    "learning rate = 0.01\n",
    "initialize weights and bias\n",
    "training\n",
    "repeat"
   ]
  },
  {
   "cell_type": "markdown",
   "id": "53f323b1",
   "metadata": {},
   "source": [
    "<img src='n2.png' />"
   ]
  },
  {
   "cell_type": "markdown",
   "id": "48e876d3",
   "metadata": {},
   "source": [
    "## Neural Network Equation\n",
    "\n",
    "<img src='nn2.png' />\n",
    "\n"
   ]
  },
  {
   "cell_type": "code",
   "execution_count": null,
   "id": "f0cf7934",
   "metadata": {},
   "outputs": [],
   "source": [
    "activation function/ transfer function\n",
    "\n",
    "155513 -> sigmoid activation -> 0 to 1"
   ]
  },
  {
   "cell_type": "markdown",
   "id": "2da7563c",
   "metadata": {},
   "source": [
    "## Activation Function\n",
    "\n",
    "Sigmoid Activation\n",
    "\n",
    "<img src='nn3.png' />"
   ]
  },
  {
   "cell_type": "code",
   "execution_count": null,
   "id": "c4f2dc4c",
   "metadata": {},
   "outputs": [],
   "source": [
    "it is used to get the output of a neuron(node)"
   ]
  },
  {
   "cell_type": "code",
   "execution_count": null,
   "id": "efb932d7",
   "metadata": {},
   "outputs": [],
   "source": [
    "why activation function\n",
    "\n",
    "- it is used to determine the output of neural network in a certain range or category\n",
    "    0 to 1, -1 to 1\n",
    "    yes or no\n",
    "    \n",
    "- to give decision making power to a neural network we use activation function\n",
    "\n",
    "- 2 type of activation function\n",
    "    - linear\n",
    "        - step function\n",
    "    - non-linear\n",
    "        - sigmoid\n",
    "        - tanh\n",
    "        - relu\n",
    "        - leaky relu\n",
    "        - softmax"
   ]
  },
  {
   "cell_type": "code",
   "execution_count": null,
   "id": "e7b9601e",
   "metadata": {},
   "outputs": [],
   "source": [
    "0-0.33\n",
    "0.33-0.66\n",
    "0.66-1"
   ]
  },
  {
   "cell_type": "markdown",
   "id": "e7dcd222",
   "metadata": {},
   "source": [
    "### sigmoid activation"
   ]
  },
  {
   "cell_type": "code",
   "execution_count": null,
   "id": "a840a093",
   "metadata": {},
   "outputs": [],
   "source": [
    "range - (0,1)\n",
    "\n",
    "- predict the probability as an output\n",
    "- binary classification"
   ]
  },
  {
   "cell_type": "code",
   "execution_count": null,
   "id": "4bd19af5",
   "metadata": {},
   "outputs": [],
   "source": [
    "e = 2.72"
   ]
  },
  {
   "cell_type": "code",
   "execution_count": 3,
   "id": "635cf3a0",
   "metadata": {},
   "outputs": [],
   "source": [
    "import math\n",
    "\n",
    "def sigmoid(x):\n",
    "    return 1/(1 + math.exp(-x))"
   ]
  },
  {
   "cell_type": "code",
   "execution_count": 4,
   "id": "f527751c",
   "metadata": {},
   "outputs": [
    {
     "data": {
      "text/plain": [
       "0.5"
      ]
     },
     "execution_count": 4,
     "metadata": {},
     "output_type": "execute_result"
    }
   ],
   "source": [
    "sigmoid(0)"
   ]
  },
  {
   "cell_type": "code",
   "execution_count": 5,
   "id": "213db650",
   "metadata": {},
   "outputs": [
    {
     "data": {
      "text/plain": [
       "0.7310585786300049"
      ]
     },
     "execution_count": 5,
     "metadata": {},
     "output_type": "execute_result"
    }
   ],
   "source": [
    "sigmoid(1)"
   ]
  },
  {
   "cell_type": "code",
   "execution_count": 7,
   "id": "accdbbf2",
   "metadata": {},
   "outputs": [
    {
     "data": {
      "text/plain": [
       "4.5397868702434395e-05"
      ]
     },
     "execution_count": 7,
     "metadata": {},
     "output_type": "execute_result"
    }
   ],
   "source": [
    "sigmoid(-10)"
   ]
  },
  {
   "cell_type": "code",
   "execution_count": 8,
   "id": "b2a8f266",
   "metadata": {},
   "outputs": [
    {
     "data": {
      "text/plain": [
       "0.9999546021312976"
      ]
     },
     "execution_count": 8,
     "metadata": {},
     "output_type": "execute_result"
    }
   ],
   "source": [
    "sigmoid(10)"
   ]
  },
  {
   "cell_type": "markdown",
   "id": "f79b2f1f",
   "metadata": {},
   "source": [
    "# Code\n",
    "\n",
    "\n",
    "### Perceptron"
   ]
  },
  {
   "cell_type": "code",
   "execution_count": 9,
   "id": "43bb9830",
   "metadata": {},
   "outputs": [],
   "source": [
    "import numpy as np\n",
    "\n",
    "class Perceptron:\n",
    "    def __init__(self, learning_rate=0.1, n_iters=10):\n",
    "        self.learning_rate = learning_rate\n",
    "        self.n_iters = n_iters\n",
    "        self.weights = None\n",
    "        self.bias = None\n",
    "    \n",
    "    def fit(self, X, y):\n",
    "        n_samples, n_features = X.shape\n",
    "        self.weights = np.zeros(n_features)\n",
    "        self.bias = 0\n",
    "        \n",
    "        for _ in range(self.n_iters):\n",
    "            for idx, x_i in enumerate(X):\n",
    "                linear_output = np.dot(x_i, self.weights) + self.bias\n",
    "                y_predicted = self._step_function(linear_output)\n",
    "                \n",
    "                update = self.learning_rate * (y[idx] - y_predicted)\n",
    "                self.weights += update * x_i\n",
    "                self.bias += update\n",
    "    \n",
    "    def predict(self, X):\n",
    "        linear_output = np.dot(X, self.weights) + self.bias\n",
    "        y_predicted = self._step_function(linear_output)\n",
    "        return y_predicted\n",
    "    \n",
    "    def _step_function(self, x):\n",
    "        return np.where(x >= 0, 1, 0)"
   ]
  },
  {
   "cell_type": "code",
   "execution_count": null,
   "id": "b1e3155b",
   "metadata": {},
   "outputs": [],
   "source": [
    "0 and 0 - 0\n",
    "0 and 1 - 0\n",
    "1 and 0 - 0\n",
    "1 and 1 - 1"
   ]
  },
  {
   "cell_type": "code",
   "execution_count": 10,
   "id": "851191f0",
   "metadata": {},
   "outputs": [
    {
     "name": "stdout",
     "output_type": "stream",
     "text": [
      "Predictions: [0 0 0 1]\n"
     ]
    }
   ],
   "source": [
    "X = np.array([[0, 0], [0, 1], [1, 0], [1, 1]])\n",
    "y = np.array([0, 0, 0, 1])  # Labels for AND gate\n",
    "\n",
    "perceptron = Perceptron(learning_rate=0.1, n_iters=10)\n",
    "\n",
    "perceptron.fit(X, y)\n",
    "\n",
    "predictions = perceptron.predict(X)\n",
    "\n",
    "print(\"Predictions:\", predictions)"
   ]
  },
  {
   "cell_type": "code",
   "execution_count": 11,
   "id": "69e34c61",
   "metadata": {},
   "outputs": [
    {
     "data": {
      "text/plain": [
       "array([0])"
      ]
     },
     "execution_count": 11,
     "metadata": {},
     "output_type": "execute_result"
    }
   ],
   "source": [
    "perceptron.predict([[0,1]])"
   ]
  },
  {
   "cell_type": "code",
   "execution_count": 12,
   "id": "7beee207",
   "metadata": {},
   "outputs": [
    {
     "data": {
      "text/plain": [
       "array([1])"
      ]
     },
     "execution_count": 12,
     "metadata": {},
     "output_type": "execute_result"
    }
   ],
   "source": [
    "perceptron.predict([[1,1]])"
   ]
  },
  {
   "cell_type": "code",
   "execution_count": null,
   "id": "3ac4cabe",
   "metadata": {},
   "outputs": [],
   "source": [
    "[55,105,39] -> tanh -> [-0.5, 0.99, -0.1]\n",
    "\n"
   ]
  },
  {
   "cell_type": "code",
   "execution_count": null,
   "id": "6a258e65",
   "metadata": {},
   "outputs": [],
   "source": [
    "deep learning for fraud modeling\n",
    "how to validate the model\n",
    "drift detection\n",
    "tools\n",
    "    - mlflow\n",
    "    - tensorboard\n",
    "    - prometheus\n",
    "    "
   ]
  }
 ],
 "metadata": {
  "kernelspec": {
   "display_name": "Python 3 (ipykernel)",
   "language": "python",
   "name": "python3"
  },
  "language_info": {
   "codemirror_mode": {
    "name": "ipython",
    "version": 3
   },
   "file_extension": ".py",
   "mimetype": "text/x-python",
   "name": "python",
   "nbconvert_exporter": "python",
   "pygments_lexer": "ipython3",
   "version": "3.9.12"
  }
 },
 "nbformat": 4,
 "nbformat_minor": 5
}
